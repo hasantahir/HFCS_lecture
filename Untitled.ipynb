{
 "cells": [
  {
   "cell_type": "code",
   "execution_count": null,
   "id": "middle-medicare",
   "metadata": {},
   "outputs": [],
   "source": [
    "import math\n",
    "from math import cos, sin, sqrt, atan2, acos\n",
    "import matplotlib.pyplot as plt\n",
    "import numpy as np\n",
    "from sph2cart1 import sph2cart1\n",
    "from cart2sph1 import cart2sph1\n",
    "from math import cos, sin, sqrt\n",
    "from mpl_toolkits.mplot3d import Axes3D"
   ]
  }
 ],
 "metadata": {
  "kernelspec": {
   "display_name": "Python 3",
   "language": "python",
   "name": "python3"
  },
  "language_info": {
   "codemirror_mode": {
    "name": "ipython",
    "version": 3
   },
   "file_extension": ".py",
   "mimetype": "text/x-python",
   "name": "python",
   "nbconvert_exporter": "python",
   "pygments_lexer": "ipython3",
   "version": "3.9.4"
  }
 },
 "nbformat": 4,
 "nbformat_minor": 5
}
